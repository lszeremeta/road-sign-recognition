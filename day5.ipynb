{
  "nbformat": 4,
  "nbformat_minor": 0,
  "metadata": {
    "colab": {
      "name": "day5.ipynb",
      "provenance": [],
      "collapsed_sections": [],
      "mount_file_id": "1oMWmd20C8-jO_0-HVd_GkDhdBSOVRE7M",
      "authorship_tag": "ABX9TyPOwchF1m/GZlG93IbhfL+e",
      "include_colab_link": true
    },
    "kernelspec": {
      "name": "python3",
      "display_name": "Python 3"
    },
    "accelerator": "GPU"
  },
  "cells": [
    {
      "cell_type": "markdown",
      "metadata": {
        "id": "view-in-github",
        "colab_type": "text"
      },
      "source": [
        "<a href=\"https://colab.research.google.com/github/lszeremeta/road-sign-recognition/blob/master/day5.ipynb\" target=\"_parent\"><img src=\"https://colab.research.google.com/assets/colab-badge.svg\" alt=\"Open In Colab\"/></a>"
      ]
    },
    {
      "cell_type": "code",
      "metadata": {
        "id": "U_VHdWZA-Er-",
        "colab_type": "code",
        "colab": {}
      },
      "source": [
        "!pip install hyperopt"
      ],
      "execution_count": 0,
      "outputs": []
    },
    {
      "cell_type": "code",
      "metadata": {
        "id": "O66u8aam-d4n",
        "colab_type": "code",
        "colab": {
          "base_uri": "https://localhost:8080/",
          "height": 53
        },
        "outputId": "10950478-90dd-4fe3-ad53-4ae15e959541"
      },
      "source": [
        "import pandas as pd\n",
        "import numpy as np\n",
        "\n",
        "import os\n",
        "import datetime\n",
        "\n",
        "import tensorflow as tf\n",
        "from tensorflow.keras.models import Sequential\n",
        "from tensorflow.keras.layers import Conv2D, MaxPool2D, Dense, Flatten, Dropout\n",
        "from tensorflow.keras.utils import to_categorical\n",
        "\n",
        "%load_ext tensorboard\n",
        "\n",
        "import matplotlib.pyplot as plt\n",
        "from skimage import color, exposure\n",
        "\n",
        "from sklearn.metrics import accuracy_score\n",
        "\n",
        "from hyperopt import hp, STATUS_OK, tpe, Trials, fmin"
      ],
      "execution_count": 20,
      "outputs": [
        {
          "output_type": "stream",
          "text": [
            "The tensorboard extension is already loaded. To reload it, use:\n",
            "  %reload_ext tensorboard\n"
          ],
          "name": "stdout"
        }
      ]
    },
    {
      "cell_type": "code",
      "metadata": {
        "id": "C1ABH2OC-no1",
        "colab_type": "code",
        "colab": {
          "base_uri": "https://localhost:8080/",
          "height": 35
        },
        "outputId": "bb6b0747-b48a-4e0b-9dd2-23f5647b2fcb"
      },
      "source": [
        "cd '/content/drive/My Drive/Colab Notebooks/matrix/matrix_tree/road-sign-recognition'"
      ],
      "execution_count": 9,
      "outputs": [
        {
          "output_type": "stream",
          "text": [
            "/content/drive/My Drive/Colab Notebooks/matrix/matrix_tree/road-sign-recognition\n"
          ],
          "name": "stdout"
        }
      ]
    },
    {
      "cell_type": "code",
      "metadata": {
        "id": "82KapEgM-q0e",
        "colab_type": "code",
        "colab": {}
      },
      "source": [
        "train = pd.read_pickle('data/train.p')\n",
        "test = pd.read_pickle('data/test.p')\n",
        "\n",
        "X_train, y_train = train['features'], train['labels']\n",
        "X_test, y_test = test['features'], test['labels']"
      ],
      "execution_count": 0,
      "outputs": []
    },
    {
      "cell_type": "code",
      "metadata": {
        "id": "WY8h6Hj2-sJ6",
        "colab_type": "code",
        "colab": {}
      },
      "source": [
        "if y_train.ndim == 1: y_train = to_categorical(y_train)\n",
        "if y_test.ndim == 1: y_test = to_categorical(y_test)\n",
        "input_shape = X_train.shape[1:]\n",
        "num_classes = y_train.shape[1]"
      ],
      "execution_count": 0,
      "outputs": []
    },
    {
      "cell_type": "code",
      "metadata": {
        "id": "dHttvk5o-wyX",
        "colab_type": "code",
        "colab": {}
      },
      "source": [
        "def train_model(model, X_train, y_train, params_fit={}):\n",
        "  model.compile(loss='categorical_crossentropy', optimizer='Adam', metrics=['accuracy'])\n",
        "\n",
        "  logdir = os.path.join(\"logs\", datetime.datetime.now().strftime(\"%Y%m%d-%H%M%S\"))\n",
        "  tensorboard_callback = tf.keras.callbacks.TensorBoard(logdir, histogram_freq=1)\n",
        "\n",
        "  model.fit(\n",
        "      X_train,\n",
        "      y_train,\n",
        "      batch_size = params_fit.get('batch_size', 128),\n",
        "      epochs = params_fit.get('epochs', 5),\n",
        "      verbose = params_fit.get('verbose', 1),\n",
        "      validation_data = params_fit.get('validation_data', (X_train, y_train)),\n",
        "      callbacks = [tensorboard_callback]\n",
        "      )\n",
        "  \n",
        "  return model\n",
        "\n",
        "def predict(trained_model, X_test, y_test, scoring=accuracy_score):\n",
        "  y_test_norm = np.argmax(y_test, axis=1)\n",
        "\n",
        "  y_pred_prob = trained_model.predict(X_test)\n",
        "  y_pred = np.argmax(y_pred_prob, axis=1)\n",
        "\n",
        "  return scoring(y_test_norm, y_pred)"
      ],
      "execution_count": 0,
      "outputs": []
    },
    {
      "cell_type": "code",
      "metadata": {
        "id": "iVPf198i_FLW",
        "colab_type": "code",
        "colab": {}
      },
      "source": [
        "def get_cnn_v5(input_shape, num_classes):\n",
        "  return Sequential([\n",
        "                     Conv2D(filters=32, kernel_size=(3, 3), activation='relu', input_shape=input_shape),\n",
        "                     Conv2D(filters=32, kernel_size=(3, 3), activation='relu', padding='same'),\n",
        "                     MaxPool2D(),\n",
        "                     Dropout(0.3),\n",
        "\n",
        "                     Conv2D(filters=64, kernel_size=(3, 3), activation='relu', padding='same'),\n",
        "                     Conv2D(filters=64, kernel_size=(3, 3), activation='relu'),\n",
        "                     MaxPool2D(),\n",
        "                     Dropout(0.3),\n",
        "\n",
        "                     Conv2D(filters=64, kernel_size=(3, 3), activation='relu', padding='same'),\n",
        "                     Conv2D(filters=64, kernel_size=(3, 3), activation='relu'),\n",
        "                     MaxPool2D(),\n",
        "                     Dropout(0.3),\n",
        "\n",
        "                     Flatten(),\n",
        "\n",
        "                     Dense(1024, activation='relu'),\n",
        "                     Dropout(0.3),\n",
        "\n",
        "                     Dense(1024, activation='relu'),\n",
        "                     Dropout(0.3),\n",
        "\n",
        "                     Dense(num_classes, activation='softmax'),\n",
        "                     ])"
      ],
      "execution_count": 0,
      "outputs": []
    },
    {
      "cell_type": "code",
      "metadata": {
        "id": "Ap268K9v_QnC",
        "colab_type": "code",
        "colab": {
          "base_uri": "https://localhost:8080/",
          "height": 215
        },
        "outputId": "e9c99aaf-d5c2-4525-c6d0-ec68fbbe8e19"
      },
      "source": [
        "model = get_cnn_v5(input_shape, num_classes)\n",
        "trained_model = train_model(model, X_train, y_train)\n",
        "\n",
        "predict(trained_model, X_test, y_test)"
      ],
      "execution_count": 16,
      "outputs": [
        {
          "output_type": "stream",
          "text": [
            "Epoch 1/5\n",
            "272/272 [==============================] - 5s 17ms/step - loss: 2.6118 - accuracy: 0.2838 - val_loss: 1.1475 - val_accuracy: 0.6091\n",
            "Epoch 2/5\n",
            "272/272 [==============================] - 4s 16ms/step - loss: 0.9806 - accuracy: 0.6813 - val_loss: 0.3226 - val_accuracy: 0.9094\n",
            "Epoch 3/5\n",
            "272/272 [==============================] - 4s 15ms/step - loss: 0.4539 - accuracy: 0.8548 - val_loss: 0.1057 - val_accuracy: 0.9693\n",
            "Epoch 4/5\n",
            "272/272 [==============================] - 4s 15ms/step - loss: 0.2830 - accuracy: 0.9135 - val_loss: 0.0761 - val_accuracy: 0.9762\n",
            "Epoch 5/5\n",
            "272/272 [==============================] - 4s 15ms/step - loss: 0.2137 - accuracy: 0.9360 - val_loss: 0.0365 - val_accuracy: 0.9897\n"
          ],
          "name": "stdout"
        },
        {
          "output_type": "execute_result",
          "data": {
            "text/plain": [
              "0.9709750566893424"
            ]
          },
          "metadata": {
            "tags": []
          },
          "execution_count": 16
        }
      ]
    },
    {
      "cell_type": "code",
      "metadata": {
        "id": "SjJK_f0QBmwO",
        "colab_type": "code",
        "colab": {}
      },
      "source": [
        "def get_model(params):\n",
        "  return Sequential([\n",
        "                     Conv2D(filters=32, kernel_size=(3, 3), activation='relu', input_shape=input_shape),\n",
        "                     Conv2D(filters=32, kernel_size=(3, 3), activation='relu', padding='same'),\n",
        "                     MaxPool2D(),\n",
        "                     Dropout(params['dropout_cnn_block_one']),\n",
        "\n",
        "                     Conv2D(filters=64, kernel_size=(3, 3), activation='relu', padding='same'),\n",
        "                     Conv2D(filters=64, kernel_size=(3, 3), activation='relu'),\n",
        "                     MaxPool2D(),\n",
        "                     Dropout(params['dropout_cnn_block_two']),\n",
        "\n",
        "                     Conv2D(filters=128, kernel_size=(3, 3), activation='relu', padding='same'),\n",
        "                     Conv2D(filters=128, kernel_size=(3, 3), activation='relu'),\n",
        "                     MaxPool2D(),\n",
        "                     Dropout(params['dropout_cnn_block_three']),\n",
        "\n",
        "                     Flatten(),\n",
        "\n",
        "                     Dense(1024, activation='relu'),\n",
        "                     Dropout(params['dropout_dense_block_one']),\n",
        "\n",
        "                     Dense(1024, activation='relu'),\n",
        "                     Dropout(params['dropout_dense_block_two']),\n",
        "\n",
        "                     Dense(num_classes, activation='softmax'),\n",
        "                     ])"
      ],
      "execution_count": 0,
      "outputs": []
    },
    {
      "cell_type": "code",
      "metadata": {
        "id": "q7MRpVZn_bQe",
        "colab_type": "code",
        "colab": {}
      },
      "source": [
        "def func_obj(params):\n",
        "  model = get_model(params)\n",
        "  model.compile(loss='categorical_crossentropy', optimizer='Adam', metrics=['accuracy'])\n",
        "\n",
        "  model.fit(\n",
        "      X_train,\n",
        "      y_train,\n",
        "      batch_size = int(params.get('batch_size', 128)),\n",
        "      epochs = 5,\n",
        "      verbose = 0\n",
        "      )\n",
        "  \n",
        "  score = model.evaluate(X_test, y_test, verbose=0)\n",
        "  accuracy = score[1]\n",
        "  print(params, 'accuracy={}'.format(accuracy))\n",
        "  \n",
        "  return {'loss': -accuracy, 'status': STATUS_OK, 'model': model}"
      ],
      "execution_count": 0,
      "outputs": []
    },
    {
      "cell_type": "code",
      "metadata": {
        "id": "IVESk2TNAZLL",
        "colab_type": "code",
        "colab": {
          "base_uri": "https://localhost:8080/",
          "height": 1000
        },
        "outputId": "e413fb6d-8716-4c0e-98a6-307dccce2ddb"
      },
      "source": [
        "space = {\n",
        "    'batch_size': hp.quniform('batch_size', 100, 200, 10),\n",
        "    'dropout_cnn_block_one': hp.uniform('dropout_cnn_block_one', 0.3, 0.5),\n",
        "    'dropout_cnn_block_two': hp.uniform('dropout_cnn_block_two', 0.3, 0.5),\n",
        "    'dropout_cnn_block_three': hp.uniform('dropout_cnn_block_three', 0.3, 0.5),\n",
        "    \n",
        "    'dropout_dense_block_one': hp.uniform('dropout_dense_block_one', 0.3, 0.7),\n",
        "    'dropout_dense_block_two': hp.uniform('dropout_dense_block_two', 0.3, 0.7),\n",
        "}\n",
        "\n",
        "best = fmin(\n",
        "    func_obj,\n",
        "    space,\n",
        "    tpe.suggest,\n",
        "    30,\n",
        "    Trials()\n",
        ")"
      ],
      "execution_count": 36,
      "outputs": [
        {
          "output_type": "stream",
          "text": [
            "{'batch_size': 170.0, 'dropout_cnn_block_one': 0.31425400667189507, 'dropout_cnn_block_three': 0.42684295200076183, 'dropout_cnn_block_two': 0.38054210047950954, 'dropout_dense_block_one': 0.6798906797108684, 'dropout_dense_block_two': 0.40170542603808956}\n",
            "accuracy=0.9396825432777405\n",
            "{'batch_size': 190.0, 'dropout_cnn_block_one': 0.3484793595271037, 'dropout_cnn_block_three': 0.37701958384519857, 'dropout_cnn_block_two': 0.3912824594951585, 'dropout_dense_block_one': 0.5384070122772382, 'dropout_dense_block_two': 0.4335506391173245}\n",
            "accuracy=0.9580498933792114\n",
            "{'batch_size': 180.0, 'dropout_cnn_block_one': 0.41320418624566657, 'dropout_cnn_block_three': 0.48027944311946863, 'dropout_cnn_block_two': 0.3467917834067491, 'dropout_dense_block_one': 0.3585385646247054, 'dropout_dense_block_two': 0.3145447199353209}\n",
            "accuracy=0.8977324366569519\n",
            "{'batch_size': 130.0, 'dropout_cnn_block_one': 0.4779834338587711, 'dropout_cnn_block_three': 0.4675599969420674, 'dropout_cnn_block_two': 0.31947687272479025, 'dropout_dense_block_one': 0.6229877901689489, 'dropout_dense_block_two': 0.6304300935053919}\n",
            "accuracy=0.8650793433189392\n",
            "{'batch_size': 100.0, 'dropout_cnn_block_one': 0.4984565863114291, 'dropout_cnn_block_three': 0.33753361664292575, 'dropout_cnn_block_two': 0.37615160503481637, 'dropout_dense_block_one': 0.4779091527100442, 'dropout_dense_block_two': 0.5539194668285246}\n",
            "accuracy=0.7954648733139038\n",
            "{'batch_size': 100.0, 'dropout_cnn_block_one': 0.44631781517693553, 'dropout_cnn_block_three': 0.32561584194937854, 'dropout_cnn_block_two': 0.4834329850705591, 'dropout_dense_block_one': 0.44336179073411486, 'dropout_dense_block_two': 0.696730282395558}\n",
            "accuracy=0.8718820810317993\n",
            "{'batch_size': 200.0, 'dropout_cnn_block_one': 0.42906321062241604, 'dropout_cnn_block_three': 0.3541731767218274, 'dropout_cnn_block_two': 0.31860981558444285, 'dropout_dense_block_one': 0.4866236916190841, 'dropout_dense_block_two': 0.40573216392074296}\n",
            "accuracy=0.9485260844230652\n",
            "{'batch_size': 120.0, 'dropout_cnn_block_one': 0.4465698377924158, 'dropout_cnn_block_three': 0.34639569417555294, 'dropout_cnn_block_two': 0.400516573090436, 'dropout_dense_block_one': 0.49591428670472837, 'dropout_dense_block_two': 0.5479596907980664}\n",
            "accuracy=0.9535147547721863\n",
            "{'batch_size': 120.0, 'dropout_cnn_block_one': 0.4181376053842024, 'dropout_cnn_block_three': 0.39088223721152193, 'dropout_cnn_block_two': 0.4861319981096283, 'dropout_dense_block_one': 0.45525683479146684, 'dropout_dense_block_two': 0.5589253570642363}\n",
            "accuracy=0.9124716520309448\n",
            "{'batch_size': 200.0, 'dropout_cnn_block_one': 0.4761811501617868, 'dropout_cnn_block_three': 0.47433473845590934, 'dropout_cnn_block_two': 0.328398533953641, 'dropout_dense_block_one': 0.30980587962696854, 'dropout_dense_block_two': 0.5544627364030046}\n",
            "accuracy=0.9056689143180847\n",
            "{'batch_size': 120.0, 'dropout_cnn_block_one': 0.41381019453261847, 'dropout_cnn_block_three': 0.39918135831181095, 'dropout_cnn_block_two': 0.31355449277459907, 'dropout_dense_block_one': 0.5885109304101441, 'dropout_dense_block_two': 0.5175389900753541}\n",
            "accuracy=0.9430838823318481\n",
            "{'batch_size': 150.0, 'dropout_cnn_block_one': 0.4107300504231073, 'dropout_cnn_block_three': 0.36712674225267816, 'dropout_cnn_block_two': 0.45221115927398225, 'dropout_dense_block_one': 0.45193754756053806, 'dropout_dense_block_two': 0.31612275048879723}\n",
            "accuracy=0.9140589833259583\n",
            "{'batch_size': 120.0, 'dropout_cnn_block_one': 0.4143884086186457, 'dropout_cnn_block_three': 0.47578173034386867, 'dropout_cnn_block_two': 0.35573264372242697, 'dropout_dense_block_one': 0.35772796363183507, 'dropout_dense_block_two': 0.6663534250067158}\n",
            "accuracy=0.9058957099914551\n",
            "{'batch_size': 120.0, 'dropout_cnn_block_one': 0.45225527685394684, 'dropout_cnn_block_three': 0.4954578206701115, 'dropout_cnn_block_two': 0.4873051452684156, 'dropout_dense_block_one': 0.49954126008068267, 'dropout_dense_block_two': 0.3461563479411398}\n",
            "accuracy=0.8845804929733276\n",
            "{'batch_size': 160.0, 'dropout_cnn_block_one': 0.41809836126094424, 'dropout_cnn_block_three': 0.34620603739740013, 'dropout_cnn_block_two': 0.42899200944729365, 'dropout_dense_block_one': 0.4062643373911624, 'dropout_dense_block_two': 0.6068569156511736}\n",
            "accuracy=0.915192723274231\n",
            "{'batch_size': 170.0, 'dropout_cnn_block_one': 0.3567738522496069, 'dropout_cnn_block_three': 0.458554031412804, 'dropout_cnn_block_two': 0.32451791323637164, 'dropout_dense_block_one': 0.5662444416896977, 'dropout_dense_block_two': 0.6265724845212495}\n",
            "accuracy=0.8818594217300415\n",
            "{'batch_size': 130.0, 'dropout_cnn_block_one': 0.3857182091345188, 'dropout_cnn_block_three': 0.42052615910013064, 'dropout_cnn_block_two': 0.37694038393671164, 'dropout_dense_block_one': 0.5706451376111628, 'dropout_dense_block_two': 0.5667724859050811}\n",
            "accuracy=0.9215419292449951\n",
            "{'batch_size': 140.0, 'dropout_cnn_block_one': 0.3833493073558106, 'dropout_cnn_block_three': 0.46576088080460976, 'dropout_cnn_block_two': 0.35132127102704097, 'dropout_dense_block_one': 0.4135887820397544, 'dropout_dense_block_two': 0.6569181857116609}\n",
            "accuracy=0.9301587343215942\n",
            "{'batch_size': 110.0, 'dropout_cnn_block_one': 0.39269495667006626, 'dropout_cnn_block_three': 0.3141880597758116, 'dropout_cnn_block_two': 0.377887852501393, 'dropout_dense_block_one': 0.6430782195127696, 'dropout_dense_block_two': 0.5130573592510161}\n",
            "accuracy=0.9575963616371155\n",
            "{'batch_size': 190.0, 'dropout_cnn_block_one': 0.38463574199630696, 'dropout_cnn_block_three': 0.344223815826509, 'dropout_cnn_block_two': 0.40444320148946067, 'dropout_dense_block_one': 0.4379400300313242, 'dropout_dense_block_two': 0.40741120479764614}\n",
            "accuracy=0.9376417398452759\n",
            "{'batch_size': 190.0, 'dropout_cnn_block_one': 0.334033815453076, 'dropout_cnn_block_three': 0.30433411084358897, 'dropout_cnn_block_two': 0.4234093766254925, 'dropout_dense_block_one': 0.6761911513986105, 'dropout_dense_block_two': 0.45627092642516937}\n",
            "accuracy=0.9131519198417664\n",
            "{'batch_size': 150.0, 'dropout_cnn_block_one': 0.35833551249787937, 'dropout_cnn_block_three': 0.30092397824036055, 'dropout_cnn_block_two': 0.44870822000203675, 'dropout_dense_block_one': 0.6306361164594676, 'dropout_dense_block_two': 0.5006690461236306}\n",
            "accuracy=0.9131519198417664\n",
            "{'batch_size': 110.0, 'dropout_cnn_block_one': 0.3052172573764558, 'dropout_cnn_block_three': 0.37130131141048794, 'dropout_cnn_block_two': 0.41608197956802534, 'dropout_dense_block_one': 0.5425455540988007, 'dropout_dense_block_two': 0.4532552229899294}\n",
            "accuracy=0.9117913842201233\n",
            "{'batch_size': 160.0, 'dropout_cnn_block_one': 0.3524598706690921, 'dropout_cnn_block_three': 0.31854429702294984, 'dropout_cnn_block_two': 0.38969149778781276, 'dropout_dense_block_one': 0.6306680163727411, 'dropout_dense_block_two': 0.4583968938448058}\n",
            "accuracy=0.9494330883026123\n",
            "{'batch_size': 140.0, 'dropout_cnn_block_one': 0.3263864422103155, 'dropout_cnn_block_three': 0.42374330994794396, 'dropout_cnn_block_two': 0.3638697715502006, 'dropout_dense_block_one': 0.5359780502799283, 'dropout_dense_block_two': 0.35015215114657783}\n",
            "accuracy=0.9625850319862366\n",
            "{'batch_size': 140.0, 'dropout_cnn_block_one': 0.3256267767229342, 'dropout_cnn_block_three': 0.4380625495573322, 'dropout_cnn_block_two': 0.36055233981434043, 'dropout_dense_block_one': 0.5382317129883378, 'dropout_dense_block_two': 0.362122427078939}\n",
            "accuracy=0.9634920358657837\n",
            "{'batch_size': 140.0, 'dropout_cnn_block_one': 0.3297625045733488, 'dropout_cnn_block_three': 0.4322016749357614, 'dropout_cnn_block_two': 0.3571291059136487, 'dropout_dense_block_one': 0.593211623849105, 'dropout_dense_block_two': 0.3593592774914747}\n",
            "accuracy=0.9662131667137146\n",
            "{'batch_size': 140.0, 'dropout_cnn_block_one': 0.3004380629787375, 'dropout_cnn_block_three': 0.44522412641601583, 'dropout_cnn_block_two': 0.33640036114838545, 'dropout_dense_block_one': 0.5862392578920969, 'dropout_dense_block_two': 0.36245081516174404}\n",
            "accuracy=0.9693877696990967\n",
            "{'batch_size': 160.0, 'dropout_cnn_block_one': 0.30016208640691117, 'dropout_cnn_block_three': 0.4469394326720671, 'dropout_cnn_block_two': 0.3397103175891541, 'dropout_dense_block_one': 0.6984930489155554, 'dropout_dense_block_two': 0.37644245801639103}\n",
            "accuracy=0.9528344869613647\n",
            "{'batch_size': 130.0, 'dropout_cnn_block_one': 0.3097844505545253, 'dropout_cnn_block_three': 0.41237395451894465, 'dropout_cnn_block_two': 0.33187993911345237, 'dropout_dense_block_one': 0.669280620521849, 'dropout_dense_block_two': 0.309214550240709}\n",
            "accuracy=0.9596371650695801\n",
            "100%|██████████| 30/30 [05:52<00:00, 11.75s/it, best loss: -0.9693877696990967]\n"
          ],
          "name": "stdout"
        }
      ]
    },
    {
      "cell_type": "code",
      "metadata": {
        "id": "dHwLwc73Ds_B",
        "colab_type": "code",
        "colab": {}
      },
      "source": [
        "def get_cnn_v6(input_shape, num_classes):\n",
        "  return Sequential([\n",
        "                     Conv2D(filters=32, kernel_size=(3, 3), activation='relu', input_shape=input_shape),\n",
        "                     Conv2D(filters=32, kernel_size=(3, 3), activation='relu', padding='same'),\n",
        "                     Conv2D(filters=32, kernel_size=(3, 3), activation='relu', padding='same'),\n",
        "                     MaxPool2D(),\n",
        "                     Dropout(0.3),\n",
        "\n",
        "                     Conv2D(filters=64, kernel_size=(3, 3), activation='relu', padding='same'),\n",
        "                     Conv2D(filters=64, kernel_size=(3, 3), activation='relu', padding='same'),\n",
        "                     Conv2D(filters=64, kernel_size=(3, 3), activation='relu'),\n",
        "                     MaxPool2D(),\n",
        "                     Dropout(0.3),\n",
        "\n",
        "                     Conv2D(filters=128, kernel_size=(3, 3), activation='relu', padding='same'),\n",
        "                     Conv2D(filters=128, kernel_size=(3, 3), activation='relu', padding='same'),\n",
        "                     Conv2D(filters=128, kernel_size=(3, 3), activation='relu'),\n",
        "                     MaxPool2D(),\n",
        "                     Dropout(0.3),\n",
        "\n",
        "                     Flatten(),\n",
        "\n",
        "                     Dense(1024, activation='relu'),\n",
        "                     Dropout(0.3),\n",
        "\n",
        "                     Dense(1024, activation='relu'),\n",
        "                     Dropout(0.3),\n",
        "\n",
        "                     Dense(num_classes, activation='softmax'),\n",
        "                     ])"
      ],
      "execution_count": 0,
      "outputs": []
    },
    {
      "cell_type": "code",
      "metadata": {
        "id": "wdC_CqebJiNW",
        "colab_type": "code",
        "colab": {
          "base_uri": "https://localhost:8080/",
          "height": 253
        },
        "outputId": "3b4bee11-d02a-4fc9-f2c4-56cad6ceebc9"
      },
      "source": [
        "model = get_cnn_v6(input_shape, num_classes)\n",
        "trained_model = train_model(model, X_train, y_train)\n",
        "\n",
        "predict(trained_model, X_test, y_test)"
      ],
      "execution_count": 38,
      "outputs": [
        {
          "output_type": "stream",
          "text": [
            "Epoch 1/5\n",
            "  2/272 [..............................] - ETA: 8:52 - loss: 8.6620 - accuracy: 0.0273WARNING:tensorflow:Method (on_train_batch_end) is slow compared to the batch update (1.966958). Check your callbacks.\n",
            "272/272 [==============================] - 10s 36ms/step - loss: 2.6889 - accuracy: 0.2504 - val_loss: 0.8557 - val_accuracy: 0.7267\n",
            "Epoch 2/5\n",
            "272/272 [==============================] - 6s 21ms/step - loss: 0.6602 - accuracy: 0.7848 - val_loss: 0.2004 - val_accuracy: 0.9306\n",
            "Epoch 3/5\n",
            "272/272 [==============================] - 6s 20ms/step - loss: 0.2857 - accuracy: 0.9124 - val_loss: 0.0758 - val_accuracy: 0.9758\n",
            "Epoch 4/5\n",
            "272/272 [==============================] - 6s 21ms/step - loss: 0.1649 - accuracy: 0.9518 - val_loss: 0.0388 - val_accuracy: 0.9895\n",
            "Epoch 5/5\n",
            "272/272 [==============================] - 6s 21ms/step - loss: 0.1229 - accuracy: 0.9660 - val_loss: 0.0385 - val_accuracy: 0.9887\n"
          ],
          "name": "stdout"
        },
        {
          "output_type": "execute_result",
          "data": {
            "text/plain": [
              "0.9723356009070295"
            ]
          },
          "metadata": {
            "tags": []
          },
          "execution_count": 38
        }
      ]
    },
    {
      "cell_type": "code",
      "metadata": {
        "id": "x5J-rqcFJ8uw",
        "colab_type": "code",
        "colab": {
          "base_uri": "https://localhost:8080/",
          "height": 53
        },
        "outputId": "3b6118ae-defb-44dc-bf82-c4359b0f3ab8"
      },
      "source": [
        "trained_model.evaluate(X_test, y_test)[1]"
      ],
      "execution_count": 39,
      "outputs": [
        {
          "output_type": "stream",
          "text": [
            "138/138 [==============================] - 1s 4ms/step - loss: 0.0878 - accuracy: 0.9723\n"
          ],
          "name": "stdout"
        },
        {
          "output_type": "execute_result",
          "data": {
            "text/plain": [
              "0.9723355770111084"
            ]
          },
          "metadata": {
            "tags": []
          },
          "execution_count": 39
        }
      ]
    },
    {
      "cell_type": "code",
      "metadata": {
        "id": "XxFicwatKDG7",
        "colab_type": "code",
        "colab": {}
      },
      "source": [
        "def get_model2(params):\n",
        "  return Sequential([\n",
        "                     Conv2D(filters=32, kernel_size=(3, 3), activation='relu', input_shape=input_shape),\n",
        "                     Conv2D(filters=32, kernel_size=(3, 3), activation='relu', padding='same'),\n",
        "                     Conv2D(filters=32, kernel_size=(3, 3), activation='relu', padding='same'),\n",
        "                     MaxPool2D(),\n",
        "                     Dropout(params['dropout_cnn_block_one']),\n",
        "\n",
        "                     Conv2D(filters=64, kernel_size=(3, 3), activation='relu', padding='same'),\n",
        "                     Conv2D(filters=64, kernel_size=(3, 3), activation='relu', padding='same'),\n",
        "                     Conv2D(filters=64, kernel_size=(3, 3), activation='relu'),\n",
        "                     MaxPool2D(),\n",
        "                     Dropout(params['dropout_cnn_block_two']),\n",
        "\n",
        "                     Conv2D(filters=128, kernel_size=(3, 3), activation='relu', padding='same'),\n",
        "                     Conv2D(filters=128, kernel_size=(3, 3), activation='relu', padding='same'),\n",
        "                     Conv2D(filters=128, kernel_size=(3, 3), activation='relu'),\n",
        "                     MaxPool2D(),\n",
        "                     Dropout(params['dropout_cnn_block_three']),\n",
        "\n",
        "                     Flatten(),\n",
        "\n",
        "                     Dense(1024, activation='relu'),\n",
        "                     Dropout(params['dropout_dense_block_one']),\n",
        "\n",
        "                     Dense(1024, activation='relu'),\n",
        "                     Dropout(params['dropout_dense_block_two']),\n",
        "\n",
        "                     Dense(num_classes, activation='softmax'),\n",
        "                     ])"
      ],
      "execution_count": 0,
      "outputs": []
    },
    {
      "cell_type": "code",
      "metadata": {
        "id": "A45ObrN7KH_t",
        "colab_type": "code",
        "colab": {}
      },
      "source": [
        "def func_obj2(params):\n",
        "  model = get_model2(params)\n",
        "  model.compile(loss='categorical_crossentropy', optimizer='Adam', metrics=['accuracy'])\n",
        "\n",
        "  model.fit(\n",
        "      X_train,\n",
        "      y_train,\n",
        "      batch_size = int(params.get('batch_size', 128)),\n",
        "      epochs = 5,\n",
        "      verbose = 0\n",
        "      )\n",
        "  \n",
        "  score = model.evaluate(X_test, y_test, verbose=0)\n",
        "  accuracy = score[1]\n",
        "  print(params, 'accuracy={}'.format(accuracy))\n",
        "  \n",
        "  return {'loss': -accuracy, 'status': STATUS_OK, 'model': model}"
      ],
      "execution_count": 0,
      "outputs": []
    },
    {
      "cell_type": "code",
      "metadata": {
        "id": "9f082SBjKUw4",
        "colab_type": "code",
        "colab": {
          "base_uri": "https://localhost:8080/",
          "height": 1000
        },
        "outputId": "91dfcb78-d7af-49ba-a412-c93bda6dd2bd"
      },
      "source": [
        "space = {\n",
        "    'batch_size': hp.quniform('batch_size', 100, 200, 10),\n",
        "    'dropout_cnn_block_one': hp.uniform('dropout_cnn_block_one', 0.3, 0.5),\n",
        "    'dropout_cnn_block_two': hp.uniform('dropout_cnn_block_two', 0.3, 0.5),\n",
        "    'dropout_cnn_block_three': hp.uniform('dropout_cnn_block_three', 0.3, 0.5),\n",
        "    \n",
        "    'dropout_dense_block_one': hp.uniform('dropout_dense_block_one', 0.3, 0.7),\n",
        "    'dropout_dense_block_two': hp.uniform('dropout_dense_block_two', 0.3, 0.7),\n",
        "}\n",
        "\n",
        "best = fmin(\n",
        "    func_obj2,\n",
        "    space,\n",
        "    tpe.suggest,\n",
        "    30,\n",
        "    Trials()\n",
        ")"
      ],
      "execution_count": 42,
      "outputs": [
        {
          "output_type": "stream",
          "text": [
            "{'batch_size': 130.0, 'dropout_cnn_block_one': 0.32046540413371005, 'dropout_cnn_block_three': 0.4620893425769784, 'dropout_cnn_block_two': 0.4666188200607172, 'dropout_dense_block_one': 0.6271111682259503, 'dropout_dense_block_two': 0.4797406433016963}\n",
            "accuracy=0.96417236328125\n",
            "{'batch_size': 120.0, 'dropout_cnn_block_one': 0.4663353925633011, 'dropout_cnn_block_three': 0.33424199954863343, 'dropout_cnn_block_two': 0.38432001009194594, 'dropout_dense_block_one': 0.5484583692330355, 'dropout_dense_block_two': 0.4409265472896334}\n",
            "accuracy=0.9752834439277649\n",
            "{'batch_size': 100.0, 'dropout_cnn_block_one': 0.42823865182182497, 'dropout_cnn_block_three': 0.44474065827546905, 'dropout_cnn_block_two': 0.3013935986524188, 'dropout_dense_block_one': 0.5228674274206675, 'dropout_dense_block_two': 0.6578319615216565}\n",
            "accuracy=0.9634920358657837\n",
            "{'batch_size': 170.0, 'dropout_cnn_block_one': 0.48898282263250215, 'dropout_cnn_block_three': 0.39781475766836644, 'dropout_cnn_block_two': 0.4414970947462934, 'dropout_dense_block_one': 0.6766164430888235, 'dropout_dense_block_two': 0.5677442337916865}\n",
            "accuracy=0.9399092793464661\n",
            "{'batch_size': 110.0, 'dropout_cnn_block_one': 0.30647534734316056, 'dropout_cnn_block_three': 0.30668503322635415, 'dropout_cnn_block_two': 0.42851556068910807, 'dropout_dense_block_one': 0.5040733006226258, 'dropout_dense_block_two': 0.4653815189110567}\n",
            "accuracy=0.9653061032295227\n",
            "{'batch_size': 180.0, 'dropout_cnn_block_one': 0.30345690096311995, 'dropout_cnn_block_three': 0.49176585391197875, 'dropout_cnn_block_two': 0.3415807279045867, 'dropout_dense_block_one': 0.30628427146080317, 'dropout_dense_block_two': 0.604967383645217}\n",
            "accuracy=0.9546485543251038\n",
            "{'batch_size': 140.0, 'dropout_cnn_block_one': 0.38154465082241507, 'dropout_cnn_block_three': 0.4478092121767291, 'dropout_cnn_block_two': 0.40366730187529515, 'dropout_dense_block_one': 0.4499125538104565, 'dropout_dense_block_two': 0.6442601453278581}\n",
            "accuracy=0.9566893577575684\n",
            "{'batch_size': 140.0, 'dropout_cnn_block_one': 0.42863352978396385, 'dropout_cnn_block_three': 0.381573128202683, 'dropout_cnn_block_two': 0.3303039063033643, 'dropout_dense_block_one': 0.41105663816772786, 'dropout_dense_block_two': 0.48676011708163613}\n",
            "accuracy=0.9346938729286194\n",
            "{'batch_size': 170.0, 'dropout_cnn_block_one': 0.4950541096101045, 'dropout_cnn_block_three': 0.3502665260971731, 'dropout_cnn_block_two': 0.48300708846282214, 'dropout_dense_block_one': 0.6786064361855001, 'dropout_dense_block_two': 0.6160676685212236}\n",
            "accuracy=0.9394558072090149\n",
            "{'batch_size': 150.0, 'dropout_cnn_block_one': 0.37334927008387464, 'dropout_cnn_block_three': 0.46966947893951655, 'dropout_cnn_block_two': 0.313323341194874, 'dropout_dense_block_one': 0.6024188595592073, 'dropout_dense_block_two': 0.43901998202297987}\n",
            "accuracy=0.945805013179779\n",
            "{'batch_size': 190.0, 'dropout_cnn_block_one': 0.3264144080133063, 'dropout_cnn_block_three': 0.4816550395647637, 'dropout_cnn_block_two': 0.4116312623298862, 'dropout_dense_block_one': 0.3809627285368872, 'dropout_dense_block_two': 0.6647579859540798}\n",
            "accuracy=0.9598639607429504\n",
            "{'batch_size': 160.0, 'dropout_cnn_block_one': 0.3899194689483941, 'dropout_cnn_block_three': 0.4040877557269985, 'dropout_cnn_block_two': 0.4657187557612429, 'dropout_dense_block_one': 0.6191162815739291, 'dropout_dense_block_two': 0.30562728662496047}\n",
            "accuracy=0.962358295917511\n",
            "{'batch_size': 160.0, 'dropout_cnn_block_one': 0.3435833560386994, 'dropout_cnn_block_three': 0.3814495572268516, 'dropout_cnn_block_two': 0.34147923546917186, 'dropout_dense_block_one': 0.6101482720359859, 'dropout_dense_block_two': 0.4096437692499937}\n",
            "accuracy=0.9551020264625549\n",
            "{'batch_size': 190.0, 'dropout_cnn_block_one': 0.3147671152417197, 'dropout_cnn_block_three': 0.4933772538177694, 'dropout_cnn_block_two': 0.3887293455723098, 'dropout_dense_block_one': 0.6776110845191885, 'dropout_dense_block_two': 0.5898433983208804}\n",
            "accuracy=0.915192723274231\n",
            "{'batch_size': 100.0, 'dropout_cnn_block_one': 0.3747258358285027, 'dropout_cnn_block_three': 0.36020805475585865, 'dropout_cnn_block_two': 0.3607034949212106, 'dropout_dense_block_one': 0.6459938290337546, 'dropout_dense_block_two': 0.5488758897214124}\n",
            "accuracy=0.9655328989028931\n",
            "{'batch_size': 140.0, 'dropout_cnn_block_one': 0.33066466656802446, 'dropout_cnn_block_three': 0.3183855752146146, 'dropout_cnn_block_two': 0.4303146443404315, 'dropout_dense_block_one': 0.5278974455532459, 'dropout_dense_block_two': 0.45702030220610923}\n",
            "accuracy=0.9723355770111084\n",
            "{'batch_size': 140.0, 'dropout_cnn_block_one': 0.40969021779832954, 'dropout_cnn_block_three': 0.4477766369628535, 'dropout_cnn_block_two': 0.48501560186207093, 'dropout_dense_block_one': 0.5991008169734809, 'dropout_dense_block_two': 0.32034797337594}\n",
            "accuracy=0.9510204195976257\n",
            "{'batch_size': 150.0, 'dropout_cnn_block_one': 0.4375132121527672, 'dropout_cnn_block_three': 0.31029772285450424, 'dropout_cnn_block_two': 0.40056433408685344, 'dropout_dense_block_one': 0.5091870285488975, 'dropout_dense_block_two': 0.47122678153287123}\n",
            "accuracy=0.9544217586517334\n",
            "{'batch_size': 160.0, 'dropout_cnn_block_one': 0.42348647304496945, 'dropout_cnn_block_three': 0.4085587076010826, 'dropout_cnn_block_two': 0.44622150057321064, 'dropout_dense_block_one': 0.3067848485363859, 'dropout_dense_block_two': 0.6508166800257373}\n",
            "accuracy=0.9383220076560974\n",
            "{'batch_size': 110.0, 'dropout_cnn_block_one': 0.4929673817802925, 'dropout_cnn_block_three': 0.3766236383105711, 'dropout_cnn_block_two': 0.4318596093996333, 'dropout_dense_block_one': 0.3489867370772088, 'dropout_dense_block_two': 0.38759114736185796}\n",
            "accuracy=0.958276629447937\n",
            "{'batch_size': 120.0, 'dropout_cnn_block_one': 0.4641528964314711, 'dropout_cnn_block_three': 0.3310579072746375, 'dropout_cnn_block_two': 0.37388502546807934, 'dropout_dense_block_one': 0.5542116887074917, 'dropout_dense_block_two': 0.34961343187829114}\n",
            "accuracy=0.9539682269096375\n",
            "{'batch_size': 120.0, 'dropout_cnn_block_one': 0.3515548459998912, 'dropout_cnn_block_three': 0.3284971426070031, 'dropout_cnn_block_two': 0.3645009199577395, 'dropout_dense_block_one': 0.4568248669063724, 'dropout_dense_block_two': 0.5222368955988126}\n",
            "accuracy=0.9750567078590393\n",
            "{'batch_size': 120.0, 'dropout_cnn_block_one': 0.46006204996849337, 'dropout_cnn_block_three': 0.34245186451596077, 'dropout_cnn_block_two': 0.3673167784249529, 'dropout_dense_block_one': 0.4395886395853726, 'dropout_dense_block_two': 0.5281106095958265}\n",
            "accuracy=0.9639455676078796\n",
            "{'batch_size': 120.0, 'dropout_cnn_block_one': 0.3524879137828266, 'dropout_cnn_block_three': 0.3273387652439352, 'dropout_cnn_block_two': 0.38466557443520144, 'dropout_dense_block_one': 0.4727497753482729, 'dropout_dense_block_two': 0.5217058584837474}\n",
            "accuracy=0.9789115786552429\n",
            "{'batch_size': 110.0, 'dropout_cnn_block_one': 0.3517099700321893, 'dropout_cnn_block_three': 0.35627029666246585, 'dropout_cnn_block_two': 0.38998901267224684, 'dropout_dense_block_one': 0.5470564235749673, 'dropout_dense_block_two': 0.6978279725640694}\n",
            "accuracy=0.9736961722373962\n",
            "{'batch_size': 130.0, 'dropout_cnn_block_one': 0.4705208536249357, 'dropout_cnn_block_three': 0.4231599615287031, 'dropout_cnn_block_two': 0.3809235551745083, 'dropout_dense_block_one': 0.4777463711342888, 'dropout_dense_block_two': 0.4184267118826944}\n",
            "accuracy=0.956462562084198\n",
            "{'batch_size': 130.0, 'dropout_cnn_block_one': 0.3995882901758335, 'dropout_cnn_block_three': 0.33576698561499313, 'dropout_cnn_block_two': 0.4132478022710917, 'dropout_dense_block_one': 0.3966391629305863, 'dropout_dense_block_two': 0.3727479517297356}\n",
            "accuracy=0.9632652997970581\n",
            "{'batch_size': 100.0, 'dropout_cnn_block_one': 0.44762569531422813, 'dropout_cnn_block_three': 0.30173010129080774, 'dropout_cnn_block_two': 0.3238425551326454, 'dropout_dense_block_one': 0.5718032068918067, 'dropout_dense_block_two': 0.5141496921787969}\n",
            "accuracy=0.9643990993499756\n",
            "{'batch_size': 120.0, 'dropout_cnn_block_one': 0.3652309766880707, 'dropout_cnn_block_three': 0.3673086352657074, 'dropout_cnn_block_two': 0.34958415546279215, 'dropout_dense_block_one': 0.4804493599606657, 'dropout_dense_block_two': 0.5004530027476441}\n",
            "accuracy=0.9646258354187012\n",
            "{'batch_size': 130.0, 'dropout_cnn_block_one': 0.4049675625913283, 'dropout_cnn_block_three': 0.32302310121112454, 'dropout_cnn_block_two': 0.41657989339122636, 'dropout_dense_block_one': 0.5696518007526119, 'dropout_dense_block_two': 0.5515646371961032}\n",
            "accuracy=0.9687075018882751\n",
            "100%|██████████| 30/30 [08:24<00:00, 16.83s/it, best loss: -0.9789115786552429]\n"
          ],
          "name": "stdout"
        }
      ]
    }
  ]
}